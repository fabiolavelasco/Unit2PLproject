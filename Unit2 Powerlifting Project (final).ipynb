{
 "cells": [
  {
   "cell_type": "code",
   "execution_count": 1,
   "id": "86e0264e",
   "metadata": {},
   "outputs": [],
   "source": [
    "%%capture\n",
    "!pip install category_encoders==2.*"
   ]
  },
  {
   "cell_type": "code",
   "execution_count": 2,
   "id": "07f698fe",
   "metadata": {},
   "outputs": [
    {
     "name": "stdout",
     "output_type": "stream",
     "text": [
      "Requirement already satisfied: xgboost in c:\\users\\fivel\\anaconda3\\lib\\site-packages (1.5.1)Note: you may need to restart the kernel to use updated packages.\n",
      "\n",
      "Requirement already satisfied: numpy in c:\\users\\fivel\\anaconda3\\lib\\site-packages (from xgboost) (1.20.1)\n",
      "Requirement already satisfied: scipy in c:\\users\\fivel\\anaconda3\\lib\\site-packages (from xgboost) (1.6.2)\n"
     ]
    }
   ],
   "source": [
    "pip install xgboost"
   ]
  },
  {
   "cell_type": "markdown",
   "id": "7066e0e7",
   "metadata": {},
   "source": [
    "LIBRARIES "
   ]
  },
  {
   "cell_type": "code",
   "execution_count": 3,
   "id": "4c5fdb4a",
   "metadata": {},
   "outputs": [],
   "source": [
    "# data analysis and wrangling\n",
    "import pandas as pd\n",
    "import numpy as np\n",
    "# visualization\n",
    "import matplotlib.pyplot as plt\n",
    "from sklearn.model_selection import train_test_split\n",
    "# encoders\n",
    "from category_encoders import OneHotEncoder, OrdinalEncoder\n",
    "from sklearn.impute import SimpleImputer\n",
    "from sklearn.preprocessing import StandardScaler\n",
    "#metrics\n",
    "from sklearn.metrics import plot_confusion_matrix, accuracy_score, precision_score, recall_score, classification_report, plot_roc_curve, roc_curve, roc_auc_score, mean_absolute_error, r2_score\n",
    "\n",
    "#pipeline\n",
    "from sklearn.pipeline import make_pipeline\n",
    "\n",
    "# machine learning\n",
    "from sklearn.linear_model import LogisticRegression\n",
    "from sklearn.ensemble import RandomForestClassifier\n",
    "from sklearn.tree import DecisionTreeClassifier\n",
    "# Boosted Models\n",
    "from sklearn.ensemble import GradientBoostingClassifier\n",
    "from xgboost import XGBClassifier \n",
    "\n",
    "# Hyperparameter tuning\n",
    "from sklearn.model_selection import GridSearchCV, RandomizedSearchCV\n",
    "\n",
    "# Permutation Importance\n",
    "from sklearn.inspection import permutation_importance \n"
   ]
  },
  {
   "cell_type": "markdown",
   "id": "5ec16880",
   "metadata": {},
   "source": [
    "IMPORT DATA SET"
   ]
  },
  {
   "cell_type": "code",
   "execution_count": 4,
   "id": "ff4ac05e",
   "metadata": {},
   "outputs": [],
   "source": [
    "location = r'C:/Users/fivel/Documents/Assignments/Unit2/Unit2Project/openipf-latest/openipf-2021-12-15/openipf-2021-12-15-45b78b1a.csv'\n",
    "df = pd.read_csv(location, low_memory=False)"
   ]
  },
  {
   "cell_type": "code",
   "execution_count": 5,
   "id": "fbc3470f",
   "metadata": {},
   "outputs": [
    {
     "data": {
      "text/html": [
       "<div>\n",
       "<style scoped>\n",
       "    .dataframe tbody tr th:only-of-type {\n",
       "        vertical-align: middle;\n",
       "    }\n",
       "\n",
       "    .dataframe tbody tr th {\n",
       "        vertical-align: top;\n",
       "    }\n",
       "\n",
       "    .dataframe thead th {\n",
       "        text-align: right;\n",
       "    }\n",
       "</style>\n",
       "<table border=\"1\" class=\"dataframe\">\n",
       "  <thead>\n",
       "    <tr style=\"text-align: right;\">\n",
       "      <th></th>\n",
       "      <th>Name</th>\n",
       "      <th>Sex</th>\n",
       "      <th>Event</th>\n",
       "      <th>Equipment</th>\n",
       "      <th>Age</th>\n",
       "      <th>AgeClass</th>\n",
       "      <th>BirthYearClass</th>\n",
       "      <th>Division</th>\n",
       "      <th>BodyweightKg</th>\n",
       "      <th>WeightClassKg</th>\n",
       "      <th>...</th>\n",
       "      <th>Tested</th>\n",
       "      <th>Country</th>\n",
       "      <th>State</th>\n",
       "      <th>Federation</th>\n",
       "      <th>ParentFederation</th>\n",
       "      <th>Date</th>\n",
       "      <th>MeetCountry</th>\n",
       "      <th>MeetState</th>\n",
       "      <th>MeetTown</th>\n",
       "      <th>MeetName</th>\n",
       "    </tr>\n",
       "  </thead>\n",
       "  <tbody>\n",
       "    <tr>\n",
       "      <th>0</th>\n",
       "      <td>Karen Thomson</td>\n",
       "      <td>F</td>\n",
       "      <td>SBD</td>\n",
       "      <td>Single-ply</td>\n",
       "      <td>39.5</td>\n",
       "      <td>35-39</td>\n",
       "      <td>40-49</td>\n",
       "      <td>Masters 1</td>\n",
       "      <td>51.90</td>\n",
       "      <td>52</td>\n",
       "      <td>...</td>\n",
       "      <td>Yes</td>\n",
       "      <td>New Zealand</td>\n",
       "      <td>NaN</td>\n",
       "      <td>OceaniaPF</td>\n",
       "      <td>IPF</td>\n",
       "      <td>2002-12-06</td>\n",
       "      <td>New Zealand</td>\n",
       "      <td>BOP</td>\n",
       "      <td>Tauranga</td>\n",
       "      <td>Oceania Championships</td>\n",
       "    </tr>\n",
       "    <tr>\n",
       "      <th>1</th>\n",
       "      <td>Deborah Groves</td>\n",
       "      <td>F</td>\n",
       "      <td>SBD</td>\n",
       "      <td>Single-ply</td>\n",
       "      <td>30.5</td>\n",
       "      <td>24-34</td>\n",
       "      <td>24-39</td>\n",
       "      <td>Open</td>\n",
       "      <td>50.64</td>\n",
       "      <td>52</td>\n",
       "      <td>...</td>\n",
       "      <td>Yes</td>\n",
       "      <td>Australia</td>\n",
       "      <td>NaN</td>\n",
       "      <td>OceaniaPF</td>\n",
       "      <td>IPF</td>\n",
       "      <td>2002-12-06</td>\n",
       "      <td>New Zealand</td>\n",
       "      <td>BOP</td>\n",
       "      <td>Tauranga</td>\n",
       "      <td>Oceania Championships</td>\n",
       "    </tr>\n",
       "    <tr>\n",
       "      <th>2</th>\n",
       "      <td>Renee Orbon</td>\n",
       "      <td>F</td>\n",
       "      <td>SBD</td>\n",
       "      <td>Single-ply</td>\n",
       "      <td>31.5</td>\n",
       "      <td>24-34</td>\n",
       "      <td>24-39</td>\n",
       "      <td>Open</td>\n",
       "      <td>55.76</td>\n",
       "      <td>56</td>\n",
       "      <td>...</td>\n",
       "      <td>Yes</td>\n",
       "      <td>New Zealand</td>\n",
       "      <td>NaN</td>\n",
       "      <td>OceaniaPF</td>\n",
       "      <td>IPF</td>\n",
       "      <td>2002-12-06</td>\n",
       "      <td>New Zealand</td>\n",
       "      <td>BOP</td>\n",
       "      <td>Tauranga</td>\n",
       "      <td>Oceania Championships</td>\n",
       "    </tr>\n",
       "    <tr>\n",
       "      <th>3</th>\n",
       "      <td>Rikki Flanders</td>\n",
       "      <td>F</td>\n",
       "      <td>SBD</td>\n",
       "      <td>Single-ply</td>\n",
       "      <td>31.5</td>\n",
       "      <td>24-34</td>\n",
       "      <td>24-39</td>\n",
       "      <td>Open</td>\n",
       "      <td>56.42</td>\n",
       "      <td>60</td>\n",
       "      <td>...</td>\n",
       "      <td>Yes</td>\n",
       "      <td>Australia</td>\n",
       "      <td>NaN</td>\n",
       "      <td>OceaniaPF</td>\n",
       "      <td>IPF</td>\n",
       "      <td>2002-12-06</td>\n",
       "      <td>New Zealand</td>\n",
       "      <td>BOP</td>\n",
       "      <td>Tauranga</td>\n",
       "      <td>Oceania Championships</td>\n",
       "    </tr>\n",
       "    <tr>\n",
       "      <th>4</th>\n",
       "      <td>Julie Hallmond</td>\n",
       "      <td>F</td>\n",
       "      <td>SBD</td>\n",
       "      <td>Single-ply</td>\n",
       "      <td>NaN</td>\n",
       "      <td>NaN</td>\n",
       "      <td>50-59</td>\n",
       "      <td>Masters 2</td>\n",
       "      <td>58.20</td>\n",
       "      <td>60</td>\n",
       "      <td>...</td>\n",
       "      <td>Yes</td>\n",
       "      <td>New Zealand</td>\n",
       "      <td>NaN</td>\n",
       "      <td>OceaniaPF</td>\n",
       "      <td>IPF</td>\n",
       "      <td>2002-12-06</td>\n",
       "      <td>New Zealand</td>\n",
       "      <td>BOP</td>\n",
       "      <td>Tauranga</td>\n",
       "      <td>Oceania Championships</td>\n",
       "    </tr>\n",
       "  </tbody>\n",
       "</table>\n",
       "<p>5 rows × 41 columns</p>\n",
       "</div>"
      ],
      "text/plain": [
       "             Name Sex Event   Equipment   Age AgeClass BirthYearClass  \\\n",
       "0   Karen Thomson   F   SBD  Single-ply  39.5    35-39          40-49   \n",
       "1  Deborah Groves   F   SBD  Single-ply  30.5    24-34          24-39   \n",
       "2     Renee Orbon   F   SBD  Single-ply  31.5    24-34          24-39   \n",
       "3  Rikki Flanders   F   SBD  Single-ply  31.5    24-34          24-39   \n",
       "4  Julie Hallmond   F   SBD  Single-ply   NaN      NaN          50-59   \n",
       "\n",
       "    Division  BodyweightKg WeightClassKg  ...  Tested      Country  State  \\\n",
       "0  Masters 1         51.90            52  ...     Yes  New Zealand    NaN   \n",
       "1       Open         50.64            52  ...     Yes    Australia    NaN   \n",
       "2       Open         55.76            56  ...     Yes  New Zealand    NaN   \n",
       "3       Open         56.42            60  ...     Yes    Australia    NaN   \n",
       "4  Masters 2         58.20            60  ...     Yes  New Zealand    NaN   \n",
       "\n",
       "   Federation  ParentFederation        Date  MeetCountry  MeetState  MeetTown  \\\n",
       "0   OceaniaPF               IPF  2002-12-06  New Zealand        BOP  Tauranga   \n",
       "1   OceaniaPF               IPF  2002-12-06  New Zealand        BOP  Tauranga   \n",
       "2   OceaniaPF               IPF  2002-12-06  New Zealand        BOP  Tauranga   \n",
       "3   OceaniaPF               IPF  2002-12-06  New Zealand        BOP  Tauranga   \n",
       "4   OceaniaPF               IPF  2002-12-06  New Zealand        BOP  Tauranga   \n",
       "\n",
       "                MeetName  \n",
       "0  Oceania Championships  \n",
       "1  Oceania Championships  \n",
       "2  Oceania Championships  \n",
       "3  Oceania Championships  \n",
       "4  Oceania Championships  \n",
       "\n",
       "[5 rows x 41 columns]"
      ]
     },
     "execution_count": 5,
     "metadata": {},
     "output_type": "execute_result"
    }
   ],
   "source": [
    "df.head()"
   ]
  },
  {
   "cell_type": "markdown",
   "id": "f6ab79e7",
   "metadata": {},
   "source": [
    "WRANGLE DATA "
   ]
  },
  {
   "cell_type": "code",
   "execution_count": 6,
   "id": "e1af73df",
   "metadata": {},
   "outputs": [],
   "source": [
    "#WRANGLING - YEE HAW \n",
    "\n",
    "def wrangle(df):\n",
    "  df = pd.read_csv(location, parse_dates=['Date'], low_memory=False)\n",
    "  \n",
    "  #Select values only after year 2015\n",
    "\n",
    "  mask = (df['Date'] >= '2015')\n",
    "  df = df.loc[mask]\n",
    "\n",
    "  #Convert the Date column into an 'object' dtype\n",
    "    \n",
    "  df['Date'] = df['Date'].dt.strftime('%Y-%m-%d')\n",
    "\n",
    "\n",
    "  #Drop missing values \n",
    "    \n",
    "  df.dropna()\n",
    "\n",
    "  #Edit Columns with only relevant information \n",
    "    \n",
    "  df = df[df['Event'] == 'SBD']\n",
    "  df = df[df['Equipment'] == 'Raw'] \n",
    "  df = df[df['Division'] == 'Open']\n",
    "  df = df[df['Country'] == 'USA']\n",
    "\n",
    "\n",
    "  #Dropping columns with too many missing values and/or irrelevant \n",
    "\n",
    "  df.drop(columns=['AgeClass', 'BirthYearClass', 'Squat4Kg', 'Bench4Kg', 'Deadlift4Kg', 'Goodlift'], inplace=True)\n",
    "    \n",
    "  #remove HCCC \n",
    "\n",
    "  cutoff = 20\n",
    "  drop_cols = [col for col in df.select_dtypes('object').columns\n",
    "              if df[col].nunique() > cutoff]\n",
    "  df.drop(columns=drop_cols, inplace=True)\n",
    "    \n",
    "    \n",
    "  # Create a new feature that will serve as a target column\n",
    "  # Create function that will define Lifter Level\n",
    "    \n",
    "  def LifterLevel(row):\n",
    "    if row['Wilks'] >= 414: \n",
    "        return 'Elite'\n",
    "    elif row['Wilks'] >= 326: \n",
    "        return 'Advanced'\n",
    "    elif row['Wilks'] >= 238: \n",
    "        return 'Intermediate'\n",
    "    else:\n",
    "        return 'Novice'\n",
    "    \n",
    "    \n",
    "  # apply to dataframe, use axis=1 to apply the function to every row\n",
    "  \n",
    "  df['LifterLevel'] = df.apply(LifterLevel, axis=1)\n",
    "\n",
    "\n",
    "  # Drop 'Wilks' columns to prevent data leakage since it was used to create the target column \n",
    "    \n",
    "  df.drop(columns='Wilks', inplace=True)  \n",
    "\n",
    "  # Drop other leaky columns \n",
    "    \n",
    "  df.drop(columns='Dots', inplace=True)\n",
    "  df.drop(columns='Glossbrenner', inplace=True)\n",
    "    \n",
    "  return df\n",
    "\n",
    "df= wrangle(df)"
   ]
  },
  {
   "cell_type": "code",
   "execution_count": 7,
   "id": "dbf656da",
   "metadata": {},
   "outputs": [
    {
     "data": {
      "text/html": [
       "<div>\n",
       "<style scoped>\n",
       "    .dataframe tbody tr th:only-of-type {\n",
       "        vertical-align: middle;\n",
       "    }\n",
       "\n",
       "    .dataframe tbody tr th {\n",
       "        vertical-align: top;\n",
       "    }\n",
       "\n",
       "    .dataframe thead th {\n",
       "        text-align: right;\n",
       "    }\n",
       "</style>\n",
       "<table border=\"1\" class=\"dataframe\">\n",
       "  <thead>\n",
       "    <tr style=\"text-align: right;\">\n",
       "      <th></th>\n",
       "      <th>Sex</th>\n",
       "      <th>Event</th>\n",
       "      <th>Equipment</th>\n",
       "      <th>Age</th>\n",
       "      <th>Division</th>\n",
       "      <th>BodyweightKg</th>\n",
       "      <th>WeightClassKg</th>\n",
       "      <th>Squat1Kg</th>\n",
       "      <th>Squat2Kg</th>\n",
       "      <th>Squat3Kg</th>\n",
       "      <th>...</th>\n",
       "      <th>Deadlift1Kg</th>\n",
       "      <th>Deadlift2Kg</th>\n",
       "      <th>Deadlift3Kg</th>\n",
       "      <th>Best3DeadliftKg</th>\n",
       "      <th>TotalKg</th>\n",
       "      <th>Place</th>\n",
       "      <th>Tested</th>\n",
       "      <th>Country</th>\n",
       "      <th>ParentFederation</th>\n",
       "      <th>LifterLevel</th>\n",
       "    </tr>\n",
       "  </thead>\n",
       "  <tbody>\n",
       "    <tr>\n",
       "      <th>7253</th>\n",
       "      <td>F</td>\n",
       "      <td>SBD</td>\n",
       "      <td>Raw</td>\n",
       "      <td>26.5</td>\n",
       "      <td>Open</td>\n",
       "      <td>80.77</td>\n",
       "      <td>84</td>\n",
       "      <td>132.5</td>\n",
       "      <td>145.0</td>\n",
       "      <td>-157.5</td>\n",
       "      <td>...</td>\n",
       "      <td>137.5</td>\n",
       "      <td>150.0</td>\n",
       "      <td>160.0</td>\n",
       "      <td>160.0</td>\n",
       "      <td>390.0</td>\n",
       "      <td>5</td>\n",
       "      <td>Yes</td>\n",
       "      <td>USA</td>\n",
       "      <td>IPF</td>\n",
       "      <td>Advanced</td>\n",
       "    </tr>\n",
       "    <tr>\n",
       "      <th>7257</th>\n",
       "      <td>F</td>\n",
       "      <td>SBD</td>\n",
       "      <td>Raw</td>\n",
       "      <td>32.5</td>\n",
       "      <td>Open</td>\n",
       "      <td>80.85</td>\n",
       "      <td>84</td>\n",
       "      <td>115.0</td>\n",
       "      <td>120.0</td>\n",
       "      <td>-125.0</td>\n",
       "      <td>...</td>\n",
       "      <td>145.0</td>\n",
       "      <td>155.0</td>\n",
       "      <td>-162.5</td>\n",
       "      <td>155.0</td>\n",
       "      <td>340.0</td>\n",
       "      <td>9</td>\n",
       "      <td>Yes</td>\n",
       "      <td>USA</td>\n",
       "      <td>IPF</td>\n",
       "      <td>Intermediate</td>\n",
       "    </tr>\n",
       "    <tr>\n",
       "      <th>8513</th>\n",
       "      <td>F</td>\n",
       "      <td>SBD</td>\n",
       "      <td>Raw</td>\n",
       "      <td>31.5</td>\n",
       "      <td>Open</td>\n",
       "      <td>80.75</td>\n",
       "      <td>84</td>\n",
       "      <td>107.5</td>\n",
       "      <td>115.0</td>\n",
       "      <td>120.0</td>\n",
       "      <td>...</td>\n",
       "      <td>145.0</td>\n",
       "      <td>155.0</td>\n",
       "      <td>-160.0</td>\n",
       "      <td>155.0</td>\n",
       "      <td>340.0</td>\n",
       "      <td>3</td>\n",
       "      <td>Yes</td>\n",
       "      <td>USA</td>\n",
       "      <td>IPF</td>\n",
       "      <td>Intermediate</td>\n",
       "    </tr>\n",
       "    <tr>\n",
       "      <th>26553</th>\n",
       "      <td>F</td>\n",
       "      <td>SBD</td>\n",
       "      <td>Raw</td>\n",
       "      <td>32.5</td>\n",
       "      <td>Open</td>\n",
       "      <td>81.45</td>\n",
       "      <td>84</td>\n",
       "      <td>117.5</td>\n",
       "      <td>122.5</td>\n",
       "      <td>127.5</td>\n",
       "      <td>...</td>\n",
       "      <td>147.5</td>\n",
       "      <td>157.5</td>\n",
       "      <td>-162.5</td>\n",
       "      <td>157.5</td>\n",
       "      <td>352.5</td>\n",
       "      <td>2</td>\n",
       "      <td>Yes</td>\n",
       "      <td>USA</td>\n",
       "      <td>IPF</td>\n",
       "      <td>Intermediate</td>\n",
       "    </tr>\n",
       "    <tr>\n",
       "      <th>30467</th>\n",
       "      <td>M</td>\n",
       "      <td>SBD</td>\n",
       "      <td>Raw</td>\n",
       "      <td>27.0</td>\n",
       "      <td>Open</td>\n",
       "      <td>88.10</td>\n",
       "      <td>93</td>\n",
       "      <td>NaN</td>\n",
       "      <td>NaN</td>\n",
       "      <td>NaN</td>\n",
       "      <td>...</td>\n",
       "      <td>NaN</td>\n",
       "      <td>NaN</td>\n",
       "      <td>NaN</td>\n",
       "      <td>230.0</td>\n",
       "      <td>525.0</td>\n",
       "      <td>5</td>\n",
       "      <td>Yes</td>\n",
       "      <td>USA</td>\n",
       "      <td>IPF</td>\n",
       "      <td>Advanced</td>\n",
       "    </tr>\n",
       "    <tr>\n",
       "      <th>30561</th>\n",
       "      <td>M</td>\n",
       "      <td>SBD</td>\n",
       "      <td>Raw</td>\n",
       "      <td>26.0</td>\n",
       "      <td>Open</td>\n",
       "      <td>93.70</td>\n",
       "      <td>105</td>\n",
       "      <td>NaN</td>\n",
       "      <td>NaN</td>\n",
       "      <td>NaN</td>\n",
       "      <td>...</td>\n",
       "      <td>NaN</td>\n",
       "      <td>NaN</td>\n",
       "      <td>NaN</td>\n",
       "      <td>220.0</td>\n",
       "      <td>520.0</td>\n",
       "      <td>3</td>\n",
       "      <td>Yes</td>\n",
       "      <td>USA</td>\n",
       "      <td>IPF</td>\n",
       "      <td>Intermediate</td>\n",
       "    </tr>\n",
       "    <tr>\n",
       "      <th>32633</th>\n",
       "      <td>F</td>\n",
       "      <td>SBD</td>\n",
       "      <td>Raw</td>\n",
       "      <td>26.5</td>\n",
       "      <td>Open</td>\n",
       "      <td>80.95</td>\n",
       "      <td>84</td>\n",
       "      <td>95.0</td>\n",
       "      <td>105.0</td>\n",
       "      <td>-110.0</td>\n",
       "      <td>...</td>\n",
       "      <td>125.0</td>\n",
       "      <td>135.0</td>\n",
       "      <td>-137.5</td>\n",
       "      <td>135.0</td>\n",
       "      <td>297.5</td>\n",
       "      <td>8</td>\n",
       "      <td>Yes</td>\n",
       "      <td>USA</td>\n",
       "      <td>IPF</td>\n",
       "      <td>Intermediate</td>\n",
       "    </tr>\n",
       "    <tr>\n",
       "      <th>42685</th>\n",
       "      <td>M</td>\n",
       "      <td>SBD</td>\n",
       "      <td>Raw</td>\n",
       "      <td>28.5</td>\n",
       "      <td>Open</td>\n",
       "      <td>102.80</td>\n",
       "      <td>105</td>\n",
       "      <td>225.0</td>\n",
       "      <td>235.0</td>\n",
       "      <td>245.0</td>\n",
       "      <td>...</td>\n",
       "      <td>275.0</td>\n",
       "      <td>285.0</td>\n",
       "      <td>-295.0</td>\n",
       "      <td>285.0</td>\n",
       "      <td>695.0</td>\n",
       "      <td>2</td>\n",
       "      <td>Yes</td>\n",
       "      <td>USA</td>\n",
       "      <td>IPF</td>\n",
       "      <td>Elite</td>\n",
       "    </tr>\n",
       "    <tr>\n",
       "      <th>43089</th>\n",
       "      <td>M</td>\n",
       "      <td>SBD</td>\n",
       "      <td>Raw</td>\n",
       "      <td>37.5</td>\n",
       "      <td>Open</td>\n",
       "      <td>124.18</td>\n",
       "      <td>120+</td>\n",
       "      <td>180.0</td>\n",
       "      <td>190.0</td>\n",
       "      <td>195.0</td>\n",
       "      <td>...</td>\n",
       "      <td>215.0</td>\n",
       "      <td>230.0</td>\n",
       "      <td>-242.5</td>\n",
       "      <td>230.0</td>\n",
       "      <td>552.5</td>\n",
       "      <td>4</td>\n",
       "      <td>Yes</td>\n",
       "      <td>USA</td>\n",
       "      <td>IPF</td>\n",
       "      <td>Intermediate</td>\n",
       "    </tr>\n",
       "    <tr>\n",
       "      <th>45993</th>\n",
       "      <td>M</td>\n",
       "      <td>SBD</td>\n",
       "      <td>Raw</td>\n",
       "      <td>23.5</td>\n",
       "      <td>Open</td>\n",
       "      <td>88.10</td>\n",
       "      <td>93</td>\n",
       "      <td>195.0</td>\n",
       "      <td>205.0</td>\n",
       "      <td>210.0</td>\n",
       "      <td>...</td>\n",
       "      <td>240.0</td>\n",
       "      <td>252.5</td>\n",
       "      <td>260.0</td>\n",
       "      <td>260.0</td>\n",
       "      <td>607.5</td>\n",
       "      <td>1</td>\n",
       "      <td>Yes</td>\n",
       "      <td>USA</td>\n",
       "      <td>IPF</td>\n",
       "      <td>Advanced</td>\n",
       "    </tr>\n",
       "  </tbody>\n",
       "</table>\n",
       "<p>10 rows × 25 columns</p>\n",
       "</div>"
      ],
      "text/plain": [
       "      Sex Event Equipment   Age Division  BodyweightKg WeightClassKg  \\\n",
       "7253    F   SBD       Raw  26.5     Open         80.77            84   \n",
       "7257    F   SBD       Raw  32.5     Open         80.85            84   \n",
       "8513    F   SBD       Raw  31.5     Open         80.75            84   \n",
       "26553   F   SBD       Raw  32.5     Open         81.45            84   \n",
       "30467   M   SBD       Raw  27.0     Open         88.10            93   \n",
       "30561   M   SBD       Raw  26.0     Open         93.70           105   \n",
       "32633   F   SBD       Raw  26.5     Open         80.95            84   \n",
       "42685   M   SBD       Raw  28.5     Open        102.80           105   \n",
       "43089   M   SBD       Raw  37.5     Open        124.18          120+   \n",
       "45993   M   SBD       Raw  23.5     Open         88.10            93   \n",
       "\n",
       "       Squat1Kg  Squat2Kg  Squat3Kg  ...  Deadlift1Kg  Deadlift2Kg  \\\n",
       "7253      132.5     145.0    -157.5  ...        137.5        150.0   \n",
       "7257      115.0     120.0    -125.0  ...        145.0        155.0   \n",
       "8513      107.5     115.0     120.0  ...        145.0        155.0   \n",
       "26553     117.5     122.5     127.5  ...        147.5        157.5   \n",
       "30467       NaN       NaN       NaN  ...          NaN          NaN   \n",
       "30561       NaN       NaN       NaN  ...          NaN          NaN   \n",
       "32633      95.0     105.0    -110.0  ...        125.0        135.0   \n",
       "42685     225.0     235.0     245.0  ...        275.0        285.0   \n",
       "43089     180.0     190.0     195.0  ...        215.0        230.0   \n",
       "45993     195.0     205.0     210.0  ...        240.0        252.5   \n",
       "\n",
       "       Deadlift3Kg  Best3DeadliftKg  TotalKg  Place  Tested  Country  \\\n",
       "7253         160.0            160.0    390.0      5     Yes      USA   \n",
       "7257        -162.5            155.0    340.0      9     Yes      USA   \n",
       "8513        -160.0            155.0    340.0      3     Yes      USA   \n",
       "26553       -162.5            157.5    352.5      2     Yes      USA   \n",
       "30467          NaN            230.0    525.0      5     Yes      USA   \n",
       "30561          NaN            220.0    520.0      3     Yes      USA   \n",
       "32633       -137.5            135.0    297.5      8     Yes      USA   \n",
       "42685       -295.0            285.0    695.0      2     Yes      USA   \n",
       "43089       -242.5            230.0    552.5      4     Yes      USA   \n",
       "45993        260.0            260.0    607.5      1     Yes      USA   \n",
       "\n",
       "       ParentFederation   LifterLevel  \n",
       "7253                IPF      Advanced  \n",
       "7257                IPF  Intermediate  \n",
       "8513                IPF  Intermediate  \n",
       "26553               IPF  Intermediate  \n",
       "30467               IPF      Advanced  \n",
       "30561               IPF  Intermediate  \n",
       "32633               IPF  Intermediate  \n",
       "42685               IPF         Elite  \n",
       "43089               IPF  Intermediate  \n",
       "45993               IPF      Advanced  \n",
       "\n",
       "[10 rows x 25 columns]"
      ]
     },
     "execution_count": 7,
     "metadata": {},
     "output_type": "execute_result"
    }
   ],
   "source": [
    "#Print data set header to check all wrangling has been applied \n",
    "df.head(10)"
   ]
  },
  {
   "cell_type": "code",
   "execution_count": 8,
   "id": "18a0b668",
   "metadata": {},
   "outputs": [
    {
     "data": {
      "text/plain": [
       "(735, 25)"
      ]
     },
     "execution_count": 8,
     "metadata": {},
     "output_type": "execute_result"
    }
   ],
   "source": [
    "df.shape"
   ]
  },
  {
   "cell_type": "markdown",
   "id": "b91b7163",
   "metadata": {},
   "source": [
    "CREATE TARGET AND SPLIT DATA "
   ]
  },
  {
   "cell_type": "code",
   "execution_count": 9,
   "id": "868f24f3",
   "metadata": {},
   "outputs": [],
   "source": [
    "#Define target column\n",
    "\n",
    "target = 'LifterLevel'\n",
    "\n",
    "#Divide the DataFrame df into the feature matrix X and the target vector y\n",
    "\n",
    "y = df[target]\n",
    "X = df.drop(columns=target)"
   ]
  },
  {
   "cell_type": "markdown",
   "id": "902e00c1",
   "metadata": {},
   "source": [
    "Divide the dataset into training, validation, and test sets."
   ]
  },
  {
   "cell_type": "code",
   "execution_count": 10,
   "id": "97fcead0",
   "metadata": {},
   "outputs": [],
   "source": [
    "# Train-val split using 80-20 \n",
    "\n",
    "X_train, X_test, y_train, y_test = train_test_split(X, y, test_size=0.2, random_state=42)"
   ]
  },
  {
   "cell_type": "code",
   "execution_count": 11,
   "id": "47defe55",
   "metadata": {},
   "outputs": [],
   "source": [
    "# Test-val split \n",
    "\n",
    "X_train, X_val, y_train, y_val = train_test_split(X_train, y_train, test_size=0.25, random_state=42)"
   ]
  },
  {
   "cell_type": "markdown",
   "id": "29271361",
   "metadata": {},
   "source": [
    "ESTABLISH BASELINE"
   ]
  },
  {
   "cell_type": "code",
   "execution_count": 12,
   "id": "1ec63e1c",
   "metadata": {},
   "outputs": [
    {
     "name": "stdout",
     "output_type": "stream",
     "text": [
      "Baseline Accuracy: 0.4331065759637188\n"
     ]
    }
   ],
   "source": [
    "#Establish the baseline accuracy score for this classification problem using the training set. \n",
    "\n",
    "print('Baseline Accuracy:', y_train.value_counts(normalize=True).max())"
   ]
  },
  {
   "cell_type": "code",
   "execution_count": 13,
   "id": "3b47cbbe",
   "metadata": {},
   "outputs": [
    {
     "data": {
      "text/plain": [
       "Elite           322\n",
       "Advanced        249\n",
       "Intermediate    127\n",
       "Novice           37\n",
       "Name: LifterLevel, dtype: int64"
      ]
     },
     "execution_count": 13,
     "metadata": {},
     "output_type": "execute_result"
    }
   ],
   "source": [
    "y.value_counts()"
   ]
  },
  {
   "cell_type": "markdown",
   "id": "18209b22",
   "metadata": {},
   "source": [
    "MODELS"
   ]
  },
  {
   "cell_type": "markdown",
   "id": "3ccdd159",
   "metadata": {},
   "source": [
    "Logistic Regression Model"
   ]
  },
  {
   "cell_type": "code",
   "execution_count": 14,
   "id": "b5a2c05d",
   "metadata": {},
   "outputs": [],
   "source": [
    "#Create pipeline for Logistic Regression Model\n",
    "\n",
    "model_lg = make_pipeline(\n",
    "    OneHotEncoder(use_cat_names=True), # Encode categorical values\n",
    "    \n",
    "    SimpleImputer(strategy='mean'), # fills Nan values with column mean\n",
    "    \n",
    "    StandardScaler(), # re-scales all features  (mean = 0, std=1)\n",
    "    \n",
    "    LogisticRegression()\n",
    ")\n",
    "\n",
    "\n",
    "model_lg.fit(X_train, y_train);"
   ]
  },
  {
   "cell_type": "markdown",
   "id": "3c42ceeb",
   "metadata": {},
   "source": [
    "Random Forest Model"
   ]
  },
  {
   "cell_type": "code",
   "execution_count": 15,
   "id": "3f8ebb3b",
   "metadata": {},
   "outputs": [],
   "source": [
    "#Create pipeline for Random Forest Tree-based Model \n",
    "\n",
    "model_rf = make_pipeline(\n",
    "    \n",
    "    OrdinalEncoder(),\n",
    "    \n",
    "    SimpleImputer(strategy='mean'),\n",
    "    \n",
    "    RandomForestClassifier(random_state=42, n_estimators=90, max_samples=.9, n_jobs=-1))\n",
    "\n",
    "\n",
    "model_rf.fit(X_train, y_train);"
   ]
  },
  {
   "cell_type": "markdown",
   "id": "d7124d5f",
   "metadata": {},
   "source": [
    "CHECK METRICS"
   ]
  },
  {
   "cell_type": "code",
   "execution_count": 16,
   "id": "32044807",
   "metadata": {},
   "outputs": [
    {
     "name": "stdout",
     "output_type": "stream",
     "text": [
      "LOGISTIC: Training Accuracy: 0.9727891156462585\n",
      "LOGISTIC: Validation Accuracy: 0.8299319727891157\n",
      "FOREST: Training Accuracy: 1.0\n",
      "FOREST: Validation Accuracy: 0.7619047619047619\n"
     ]
    }
   ],
   "source": [
    "#Print accuracy scores for both models and label each \n",
    "\n",
    "print('LOGISTIC: Training Accuracy:', model_lg.score(X_train, y_train)) \n",
    "print('LOGISTIC: Validation Accuracy:', model_lg.score(X_val, y_val))\n",
    "print('FOREST: Training Accuracy:', model_rf.score(X_train, y_train))\n",
    "print('FOREST: Validation Accuracy:', model_rf.score(X_val,y_val))"
   ]
  },
  {
   "cell_type": "markdown",
   "id": "2bfb949b",
   "metadata": {},
   "source": [
    "CHECKING FOR DATA LEAKS"
   ]
  },
  {
   "cell_type": "code",
   "execution_count": 17,
   "id": "a249787b",
   "metadata": {},
   "outputs": [],
   "source": [
    "#Check for data leakage by exploring the feature importances of the Random Forest Model\n",
    "\n",
    "#importances = model_rf.named_steps['randomforestclassifier'].feature_importances_\n",
    "#features = X_train.columns\n",
    "#pd.Series(importances, index = features).sort_values().tail(10).plot(kind='barh');"
   ]
  },
  {
   "cell_type": "markdown",
   "id": "e1c91133",
   "metadata": {},
   "source": [
    "We can see that the 'Wilks' column is creating leakage because it was used to create the target column. We need to go back to the Wrangling function and drop that column. "
   ]
  },
  {
   "cell_type": "code",
   "execution_count": 18,
   "id": "892e2a2b",
   "metadata": {},
   "outputs": [],
   "source": [
    "#Checking feature importances again, now without the leaky column \n",
    "\n",
    "#importances = model_rf.named_steps['randomforestclassifier'].feature_importances_\n",
    "#features = X_train.columns\n",
    "#pd.Series(importances, index = features).sort_values().tail(10).plot(kind='barh');"
   ]
  },
  {
   "cell_type": "markdown",
   "id": "10f8dca8",
   "metadata": {},
   "source": [
    "Judging by the new graph, we can see that the 'Dots' and 'Glossbrenner' columns could also be leaky. This could be because these two values also measure a lifter's strenght level (using different metrics than Wilks) "
   ]
  },
  {
   "cell_type": "code",
   "execution_count": 19,
   "id": "486ed93f",
   "metadata": {},
   "outputs": [
    {
     "data": {
      "image/png": "[encoded data removed]",
      "text/plain": [
       "<Figure size 432x288 with 1 Axes>"
      ]
     },
     "metadata": {
      "needs_background": "light"
     },
     "output_type": "display_data"
    }
   ],
   "source": [
    "#Checking feature importances again, now without all leaky columns\n",
    "\n",
    "importances = model_rf.named_steps['randomforestclassifier'].feature_importances_\n",
    "features = X_train.columns\n",
    "pd.Series(importances, index = features).sort_values().tail(10).plot(kind='barh');"
   ]
  },
  {
   "cell_type": "markdown",
   "id": "f9974aca",
   "metadata": {},
   "source": [
    "TUNE RANDOM FOREST MODEL"
   ]
  },
  {
   "cell_type": "code",
   "execution_count": 20,
   "id": "d6d3598e",
   "metadata": {},
   "outputs": [],
   "source": [
    "# tuning n_estimators\n",
    "# n_estimators = The number of trees in the forest.\n",
    "\n",
    "train_acc = []\n",
    "val_acc = []\n",
    "\n",
    "num_of_estimators = np.arange(10,100,20)\n",
    "\n",
    "for estimator in num_of_estimators:\n",
    "  forest_model = make_pipeline(\n",
    "      OrdinalEncoder(),\n",
    "      SimpleImputer(),\n",
    "      RandomForestClassifier(n_estimators=estimator, random_state=42, n_jobs =-1) \n",
    "  )\n",
    "\n",
    "  forest_model.fit(X_train, y_train)\n",
    "  train_acc.append(forest_model.score(X_train, y_train))\n",
    "  val_acc.append(forest_model.score(X_val, y_val))"
   ]
  },
  {
   "cell_type": "code",
   "execution_count": 21,
   "id": "3b7deeb3",
   "metadata": {},
   "outputs": [
    {
     "data": {
      "image/png": "[encoded data removed]",
      "text/plain": [
       "<Figure size 432x288 with 1 Axes>"
      ]
     },
     "metadata": {
      "needs_background": "light"
     },
     "output_type": "display_data"
    }
   ],
   "source": [
    "# Plot to find out optimal number of trees in the forest \n",
    "\n",
    "plt.plot(num_of_estimators, train_acc, color='blue', label='training')\n",
    "plt.plot(num_of_estimators, val_acc, color='orange', label='validation')\n",
    "plt.xlabel('num_of_estimators')\n",
    "plt.ylabel('accuracy')\n",
    "plt.legend()\n",
    "plt.show()"
   ]
  },
  {
   "cell_type": "code",
   "execution_count": 22,
   "id": "193f3167",
   "metadata": {},
   "outputs": [],
   "source": [
    "# Applying n_sestimators to 90 and tuning max_samples\n",
    "\n",
    "# max_samples = the number of samples to draw from X to train each base estimator\n",
    "\n",
    "\n",
    "train_acc = []\n",
    "val_acc = []\n",
    "max_samples_values = np.arange(.2, 1, 0.1)\n",
    "for sample_value in max_samples_values:\n",
    "  forest_model = make_pipeline(\n",
    "      OrdinalEncoder(),\n",
    "      SimpleImputer(),\n",
    "      RandomForestClassifier(max_samples=sample_value, n_estimators=90, random_state=42, n_jobs =-1) \n",
    "  )\n",
    "  forest_model.fit(X_train, y_train)\n",
    "  train_acc.append(forest_model.score(X_train, y_train))\n",
    "  val_acc.append(forest_model.score(X_val, y_val))"
   ]
  },
  {
   "cell_type": "code",
   "execution_count": 23,
   "id": "2f6882fd",
   "metadata": {},
   "outputs": [
    {
     "data": {
      "image/png": "[encoded data removed]",
      "text/plain": [
       "<Figure size 432x288 with 1 Axes>"
      ]
     },
     "metadata": {
      "needs_background": "light"
     },
     "output_type": "display_data"
    }
   ],
   "source": [
    "#Plot to find out optimal max_samples \n",
    "\n",
    "plt.plot(max_samples_values, train_acc, color='blue', label='training')\n",
    "plt.plot(max_samples_values, val_acc, color='orange', label='validation')\n",
    "plt.xlabel('max_samples')\n",
    "plt.ylabel('accuracy')\n",
    "plt.legend()\n",
    "plt.show()"
   ]
  },
  {
   "cell_type": "markdown",
   "id": "ed521d56",
   "metadata": {},
   "source": [
    "COMMUNICATE RESULTS "
   ]
  },
  {
   "cell_type": "code",
   "execution_count": 24,
   "id": "d1c4bf0f",
   "metadata": {},
   "outputs": [
    {
     "name": "stdout",
     "output_type": "stream",
     "text": [
      "LOGISTIC: Validation Accuracy: 0.8299319727891157\n",
      "FOREST: Validation Accuracy: 0.7619047619047619\n",
      "LOGISTIC: Test Accuracy: 0.8639455782312925\n"
     ]
    }
   ],
   "source": [
    "# Validation scores from both models\n",
    "\n",
    "print('LOGISTIC: Validation Accuracy:', model_lg.score(X_val, y_val))\n",
    "print('FOREST: Validation Accuracy:', model_rf.score(X_val,y_val))\n",
    "\n",
    "# Test score from Logistic Regression Model \n",
    "\n",
    "print('LOGISTIC: Test Accuracy:', model_lg.score(X_test, y_test))\n"
   ]
  }
 ],
 "metadata": {
  "kernelspec": {
   "display_name": "Python 3",
   "language": "python",
   "name": "python3"
  },
  "language_info": {
   "codemirror_mode": {
    "name": "ipython",
    "version": 3
   },
   "file_extension": ".py",
   "mimetype": "text/x-python",
   "name": "python",
   "nbconvert_exporter": "python",
   "pygments_lexer": "ipython3",
   "version": "3.8.8"
  }
 },
 "nbformat": 4,
 "nbformat_minor": 5
}
